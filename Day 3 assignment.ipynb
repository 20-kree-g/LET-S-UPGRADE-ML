{
 "cells": [
  {
   "cell_type": "code",
   "execution_count": 2,
   "metadata": {},
   "outputs": [
    {
     "name": "stdout",
     "output_type": "stream",
     "text": [
      "Addition is : (9+16j)\n"
     ]
    }
   ],
   "source": [
    "# Write a Program to subtract two complex no.s in python\n",
    "\n",
    "# Function that returns addition of complex no. \n",
    "def addComplex(x1,x2):\n",
    "  return x1 + x2\n",
    "\n",
    "x1 = complex(4,7)\n",
    "x2 = complex(5,9)\n",
    "print(\"Addition is :\",addComplex(x1,x2))\n",
    "\n"
   ]
  },
  {
   "cell_type": "code",
   "execution_count": 5,
   "metadata": {},
   "outputs": [
    {
     "name": "stdout",
     "output_type": "stream",
     "text": [
      "fouth root of num is : 3.0\n"
     ]
    }
   ],
   "source": [
    "# Write a program to find the fourth root of a number.\n",
    "\n",
    "# Function that returns addition of two complex no.s\n",
    "\n",
    "def nth_root(num,root):\n",
    " ans = num **(1/root)\n",
    " return ans\n",
    "\n",
    "num = 81\n",
    "root = 4\n",
    "print(\"fouth root of num is :\",nth_root(num,root))"
   ]
  },
  {
   "cell_type": "code",
   "execution_count": 7,
   "metadata": {},
   "outputs": [
    {
     "name": "stdout",
     "output_type": "stream",
     "text": [
      "Enter First Number: 34\n",
      "Enter Second Number: 54\n",
      "Value of num1 before swapping:  34\n",
      "Value of num2 before swapping:  54\n",
      "Value of num1 after swapping:  54\n",
      "Value of num2 after swapping:  34\n"
     ]
    }
   ],
   "source": [
    "# Write a program to swap two numbers in Python with the help of a temporary variable.\n",
    "\n",
    "#Function that returns the swapped values\n",
    "\n",
    "num1 = input('Enter First Number: ')\n",
    "num2 = input('Enter Second Number: ')\n",
    "\n",
    "print(\"Value of num1 before swapping: \", num1)\n",
    "print(\"Value of num2 before swapping: \", num2)\n",
    "\n",
    "# swapping two numbers using temporary variable\n",
    "temp = num1\n",
    "num1 = num2\n",
    "num2 = temp\n",
    "\n",
    "print(\"Value of num1 after swapping: \", num1)\n",
    "print(\"Value of num2 after swapping: \", num2)"
   ]
  },
  {
   "cell_type": "code",
   "execution_count": 9,
   "metadata": {},
   "outputs": [
    {
     "name": "stdout",
     "output_type": "stream",
     "text": [
      "Before swapping: \n",
      "Value of x :  5.4  and y :  10.3\n",
      "After swapping: \n",
      "Value of x :  10.3  and y :  5.4\n"
     ]
    }
   ],
   "source": [
    "# Write a program to swap two numbers in Python without using a temporary variable.\n",
    "\n",
    "x = 5.4\n",
    "y = 10.3\n",
    "  \n",
    "print (\"Before swapping: \") \n",
    "print(\"Value of x : \", x, \" and y : \", y) \n",
    "  \n",
    "# Swap code \n",
    "x = x + y # x = 15.7, y = 10.3 \n",
    "y = x - y # x = 15.7, y = 5.4 \n",
    "x = x - y # x = 10.3, y = 5.4 \n",
    "  \n",
    "print (\"After swapping: \") \n",
    "print(\"Value of x : \", x, \" and y : \", y) "
   ]
  },
  {
   "cell_type": "code",
   "execution_count": 13,
   "metadata": {},
   "outputs": [
    {
     "name": "stdout",
     "output_type": "stream",
     "text": [
      "Temperature in Kelvin ( K ) = 339.056 \n"
     ]
    }
   ],
   "source": [
    "# Write a program to convert fahrenheit to kelvin and celsius both.\n",
    "\n",
    "def Fahrenheit_to_Kelvin(F): \n",
    "    return 273.5 + ((F - 32.0) * (5.0/9.0)) \n",
    "  \n",
    "# Driver function \n",
    "F = 150\n",
    "print(\"Temperature in Kelvin ( K ) = {:.3f} \".format(Fahrenheit_to_Kelvin( F ))) "
   ]
  },
  {
   "cell_type": "code",
   "execution_count": 14,
   "metadata": {},
   "outputs": [],
   "source": [
    "# Write a program to demonstrate all the available data types in Python. Hint: Use type() function.\n"
   ]
  },
  {
   "cell_type": "markdown",
   "metadata": {},
   "source": [
    "# Create a Markdown cell \n",
    "## in jupyter and\n",
    "list the steps discussed in the session by Dr. Darshan\n",
    "Ingle sir to create Github profile and upload Githubs Assignment link."
   ]
  }
 ],
 "metadata": {
  "kernelspec": {
   "display_name": "Python 3",
   "language": "python",
   "name": "python3"
  },
  "language_info": {
   "codemirror_mode": {
    "name": "ipython",
    "version": 3
   },
   "file_extension": ".py",
   "mimetype": "text/x-python",
   "name": "python",
   "nbconvert_exporter": "python",
   "pygments_lexer": "ipython3",
   "version": "3.7.6"
  }
 },
 "nbformat": 4,
 "nbformat_minor": 4
}
