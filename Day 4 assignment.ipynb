{
 "cells": [
  {
   "cell_type": "code",
   "execution_count": 2,
   "metadata": {},
   "outputs": [
    {
     "name": "stdout",
     "output_type": "stream",
     "text": [
      "Enter two complex numbers in the form a+bj:\n",
      "5+8j\n",
      "6+9j\n",
      "Addition of two complex numbers :  (11+17j)\n",
      "Subtraction of two complex numbers :  (-1-1j)\n",
      "Multiplication of two complex numbers :  (-42+93j)\n",
      "Division of two complex numbers :  (0.8717948717948717+0.02564102564102562j)\n",
      "Modulus of 1st no.: 88.99999999999999\n",
      "Modulus of 2nd no.: 117.00000000000001\n"
     ]
    }
   ],
   "source": [
    "# Research on whether addition, subtraction, multiplication, division, floor division and modulo\n",
    "# operations be performed on complex numbers. Based on your study, implement a Python\n",
    "# program to demonstrate these operations.\n",
    "\n",
    "\n",
    "print(\"Enter two complex numbers in the form a+bj:\")\n",
    "n1 = complex(input())\n",
    "n2 = complex(input())\n",
    "\n",
    "\n",
    "print(\"Addition of two complex numbers : \",n1 + n2)\n",
    "print(\"Subtraction of two complex numbers : \",n1-n2)\n",
    "print(\"Multiplication of two complex numbers : \",n1*n2)\n",
    "print(\"Division of two complex numbers : \",n1/n2)\n",
    "\n",
    "r1 = n1.real\n",
    "i1 = n1.imag\n",
    "z1 = n1.conjugate()\n",
    "r2 = n2.real\n",
    "i2 = n2.imag\n",
    "z2 = n2.conjugate()\n",
    "k1 = abs(z1)\n",
    "a1 = pow(k1,2)\n",
    "k2 = abs(z2)\n",
    "a2 = pow(k2,2)\n",
    "\n",
    "print(\"Modulus of 1st no.:\",a1)\n",
    "print(\"Modulus of 2nd no.:\",a2)\n",
    "\n",
    " "
   ]
  },
  {
   "cell_type": "code",
   "execution_count": 12,
   "metadata": {},
   "outputs": [
    {
     "name": "stdout",
     "output_type": "stream",
     "text": [
      "Enter first number:34\n",
      "enter second number:45.4\n",
      "division : 0.748898678414097\n"
     ]
    }
   ],
   "source": [
    "#  Consider two numbers. Perform their subtraction and if the result of subtraction is greater than\n",
    "# 25, print their multiplication result else print their division result.\n",
    "\n",
    "\n",
    "n1 = input('Enter first number:')\n",
    "n2 = input('enter second number:')\n",
    "d = float(n1) - float(n2)\n",
    "if d>25:\n",
    "    m = float(n1) * float(n2)\n",
    "    print(\"multiplication :\",m)\n",
    "    \n",
    "else:\n",
    "    div = float(n1) / float(n2)\n",
    "    print(\"division :\",div)    \n"
   ]
  },
  {
   "cell_type": "markdown",
   "metadata": {},
   "source": [
    "Research on range() functions and its parameters. Create a markdown cell and write in your own\n",
    "words what you understand about it. Implement a small\n",
    "program of your choice on the same.\n",
    "\n",
    "The built-in function range() generates the integer numbers between the given start integer to the stop integer, i.e., It returns a range object. Using for loop, we can iterate over a sequence of numbers produced by the range() function.\n",
    "\n",
    "simple code snippet for supporting my explanation of the range function\n",
    "\n",
    "\n"
   ]
  },
  {
   "cell_type": "code",
   "execution_count": 17,
   "metadata": {},
   "outputs": [
    {
     "name": "stdout",
     "output_type": "stream",
     "text": [
      "Python range() example\n",
      "Get numbers from range 0 to 7\n",
      "0, 1, 2, 3, 4, 5, 6, "
     ]
    }
   ],
   "source": [
    "print(\"Python range() example\")\n",
    "print(\"Get numbers from range 0 to 7\")\n",
    "for i in range(7):\n",
    "    print(i, end=', ')\n"
   ]
  },
  {
   "cell_type": "code",
   "execution_count": 24,
   "metadata": {},
   "outputs": [
    {
     "name": "stdout",
     "output_type": "stream",
     "text": [
      "square of that number minus 2\n",
      "better luck next time\n",
      "square of that number minus 2\n",
      "better luck next time\n",
      "square of that number minus 2\n",
      "better luck next time\n",
      "better luck next time\n",
      "better luck next time\n",
      "square of that number minus 2\n",
      "square of that number minus 2\n"
     ]
    }
   ],
   "source": [
    "# Consider a list of 10 elements of integer values. If the number in the list is divisible by 2, print the\n",
    "# result as \"square of that number minus 2\".\n",
    "\n",
    "list1 = [10, 21, 4, 45, 66, 93, 15, 87, 34, 100]\n",
    "for num in list1:\n",
    "    if num % 2 == 0:\n",
    "         \n",
    "        print(\"square of that number minus 2\")\n",
    "    else:\n",
    "        print(\"better luck next time\")\n"
   ]
  },
  {
   "cell_type": "code",
   "execution_count": 25,
   "metadata": {},
   "outputs": [
    {
     "name": "stdout",
     "output_type": "stream",
     "text": [
      "better luck next time\n",
      "number: 21\n",
      "better luck next time\n",
      "number: 45\n",
      "number: 66\n",
      "number: 93\n",
      "number: 15\n",
      "number: 87\n",
      "number: 34\n",
      "number: 100\n"
     ]
    }
   ],
   "source": [
    "# Consider a list of 10 elements. Print all the elements in the list which are greater than 7 when that\n",
    "# number is divided 2.\n",
    "\n",
    "list1 = [10, 21, 4, 45, 66, 93, 15, 87, 34, 100]\n",
    "for num in list1:\n",
    "    if num / 2 > 7:\n",
    "         \n",
    "        print(\"number:\" ,num)\n",
    "    else:\n",
    "        print(\"better luck next time\")"
   ]
  },
  {
   "cell_type": "code",
   "execution_count": null,
   "metadata": {},
   "outputs": [],
   "source": []
  }
 ],
 "metadata": {
  "kernelspec": {
   "display_name": "Python 3",
   "language": "python",
   "name": "python3"
  },
  "language_info": {
   "codemirror_mode": {
    "name": "ipython",
    "version": 3
   },
   "file_extension": ".py",
   "mimetype": "text/x-python",
   "name": "python",
   "nbconvert_exporter": "python",
   "pygments_lexer": "ipython3",
   "version": "3.7.6"
  }
 },
 "nbformat": 4,
 "nbformat_minor": 4
}
